{
 "cells": [
  {
   "cell_type": "code",
   "execution_count": null,
   "id": "95f4a224",
   "metadata": {},
   "outputs": [
    {
     "name": "stdout",
     "output_type": "stream",
     "text": [
      "qwen-plus\n"
     ]
    }
   ],
   "source": [
    "from dotenv import load_dotenv\n",
    "\n",
    "\n",
    "load_dotenv()\n"
   ]
  },
  {
   "cell_type": "code",
   "execution_count": 7,
   "id": "90b0f519",
   "metadata": {},
   "outputs": [],
   "source": [
    "import os\n",
    "from llama_index.llms.openai_like import OpenAILike\n",
    "\n",
    "\n",
    "llm = OpenAILike(\n",
    "    model=os.getenv(\"MODEL_NAME\"),\n",
    "    api_key=os.getenv(\"API_KEY\"),\n",
    "    api_base=os.getenv(\"API_BASE_URL\"),\n",
    "    is_chat_model=True,\n",
    "    timeout=120  # 设置超时\n",
    ")"
   ]
  },
  {
   "cell_type": "code",
   "execution_count": 9,
   "id": "55aef815",
   "metadata": {},
   "outputs": [
    {
     "data": {
      "text/plain": [
       "ChatResponse(message=ChatMessage(role=<MessageRole.ASSISTANT: 'assistant'>, additional_kwargs={}, blocks=[TextBlock(block_type='text', text='我叫通义千问，英文名是Qwen。我是阿里巴巴集团旗下的通义实验室自主研发的超大规模语言模型。很高兴为您服务！如果您有任何问题或需要帮助，请随时告诉我。')]), raw=ChatCompletion(id='chatcmpl-b9890047-95f5-9105-bb1d-a5ba7fee0df4', choices=[Choice(finish_reason='stop', index=0, logprobs=None, message=ChatCompletionMessage(content='我叫通义千问，英文名是Qwen。我是阿里巴巴集团旗下的通义实验室自主研发的超大规模语言模型。很高兴为您服务！如果您有任何问题或需要帮助，请随时告诉我。', refusal=None, role='assistant', annotations=None, audio=None, function_call=None, tool_calls=None))], created=1748510097, model='qwen-plus', object='chat.completion', service_tier=None, system_fingerprint=None, usage=CompletionUsage(completion_tokens=41, prompt_tokens=23, total_tokens=64, completion_tokens_details=None, prompt_tokens_details=PromptTokensDetails(audio_tokens=None, cached_tokens=0))), delta=None, logprobs=None, additional_kwargs={'prompt_tokens': 23, 'completion_tokens': 41, 'total_tokens': 64})"
      ]
     },
     "execution_count": 9,
     "metadata": {},
     "output_type": "execute_result"
    }
   ],
   "source": [
    "from llama_index.core.llms import ChatMessage\n",
    "\n",
    "messages = [\n",
    "    ChatMessage(role=\"system\", content=\"你是一个聪明的助手\"),\n",
    "    ChatMessage(role=\"user\", content=\"你叫什么名字？\")\n",
    "]\n",
    "\n",
    "llm.chat(messages)"
   ]
  },
  {
   "cell_type": "code",
   "execution_count": null,
   "id": "20180f49",
   "metadata": {},
   "outputs": [],
   "source": []
  }
 ],
 "metadata": {
  "kernelspec": {
   "display_name": ".venv",
   "language": "python",
   "name": "python3"
  },
  "language_info": {
   "codemirror_mode": {
    "name": "ipython",
    "version": 3
   },
   "file_extension": ".py",
   "mimetype": "text/x-python",
   "name": "python",
   "nbconvert_exporter": "python",
   "pygments_lexer": "ipython3",
   "version": "3.13.2"
  }
 },
 "nbformat": 4,
 "nbformat_minor": 5
}
